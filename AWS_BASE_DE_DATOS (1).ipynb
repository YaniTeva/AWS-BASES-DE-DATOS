{
 "cells": [
  {
   "cell_type": "markdown",
   "id": "d20d1098",
   "metadata": {},
   "source": [
    "\n",
    "# AWS BASE DE DATOS\n",
    "\n",
    "AWS tiene bases de datos para diferentes casos de usos.\n",
    "\n",
    "## Base de Datos Relacionales o SQL:\n",
    "- **Amazon RDS**: réplicas de lectura, despliegue multi AZ.\n",
    "- **Amazon Redshift**: base de datos analítica, es una Data Warehouse.\n",
    "\n",
    "## Base de Datos No Relacionales o NoSQL:\n",
    "- **Amazon DynamoDB**: basadas en pares clave-valor.\n",
    "- **Amazon Neptune**: basada en grafos.\n",
    "- **Amazon ElastiCache**: basada en cacheo en memoria. Servicio pensado para cachear otras bases de datos o porque se requiere mantener datasets en memoria y poder hacer entregas con latencia en microsegundos. Es compatible con Redis y Memcached.\n",
    "- **Amazon Keyspaces (para Apache Cassandra)**: Basados en columna amplia. Es un servicio de bases de datos compatible con Apache Cassandra administrado.\n",
    "- **Amazon Quantum Ledger Database (Amazon QLDB)**: es una base de datos de libro mayor.\n",
    "\n",
    "## Comparación de BD Relacionales y No Relacionales\n",
    "\n",
    "| Aspecto            | Relacionales                                                                                                                                                            | No Relacionales                                                                                                                                                   |\n",
    "|---------------------|------------------------------------------------------------------------------------------------------------------------------------------------------------------------|------------------------------------------------------------------------------------------------------------------------------------------------------------------|\n",
    "| **Forma de almacenamiento** | Filas y columnas                                                                                                                                                    | Modelo pares claves-valor, series temporales, modelos documentales, modelos de columna amplia, de grafos, etc.                                                   |\n",
    "| **Esquema**         | Fijo (se define en el momento que se crea la BD, todos los campos de la tablas y se aseguran que todos los registros tengan el mismo número de atributos).                 | Dinámico. Semi estructurado. Los elementos pueden tener diferentes atributos. El esquema generalmente no se define al momento de la creación de la tabla.         |\n",
    "| **Forma de consulta** | Utilizando SQL                                                                                                                                                           | Se enfoca en consulta a colecciones de documentos.                                                                                                                |\n",
    "| **Escalabilidad**   | la capacidad de almacenamiento de la memoria, cantidad de procesadores, etc.Pueden tener alguna cierta escalabilidad horizontal mediante réplicas de lectura pero solamente escala la capacidad de lectura (Y NO ESCRITURA). Algunas soluciones como Apache, Oracle (Real Application Clusters (RAC), AWS RDS que pueden permitir cierta escalabilidad horizontal pero limitada.        | Escalado Horizontal (por su manera distribuida), que garantiza grandes productividades de lectura, escritura y almacenamiento.                                    |\n",
    "| **Transacciones**   | Están preparadas para realizar OLTP (Procesamiento de Transacciones en Línea), es decir, la ejecución de instrucciones de DML (Lenguaje de Modificación de Datos) como un todo o nada, garantizando la integridad de los datos a través de transacciones atómicas.                                                                                                 | Garantizar una transacción distribuida es complicado, y no es eficiente, a pesar que hay servicios que permiten realizar transacciones distribuidas sobre BD (Dynamo DB tiene una API para realizar operaciones transaccionales)|\n",
    "| **Modelo de consistencia** | Modelo consistencia final fuerte (strong consistency): Los cambios se propagan de forma sincrónica y se garantizan que sean visibles en todas las réplicas antes de que se confirme la operación.                     | Modelo de consistencia final eventual (eventual consistency): Debido a su naturaleza distribuida, cada vez que se actualiza un elemento, tiene que propagarse entre los diferentes nodos donde están segmentados los datos, es decir, los cambios se propagan de forma asíncrona y pueden tardar un tiempo en hacerse visibles en todas las réplicas de la base de datos (se pueden tener datos “desactualizado” luego de una consulta).Sin embargo DynamoDB es una excepción que permite un modelo de consistencia fuerte.|\n",
    "| **Caso de usos** | Sistemas Transaccionales: Banca: Gestión de cuentas, transferencias, pagos, etc. Comercio Electrónico: Carritos de compra, gestión de inventario, procesamiento de pedidos. Reservas: Hoteles, aerolíneas, alquiler de coches.Sistemas ERP: Gestión de recursos empresariales, contabilidad, gestión de clientes.Aplicaciones Empresariales:CRM: Gestión de relaciones con los clientes. HRM: Gestión de recursos humanos.BI: Inteligencia de negocio y nálisis de datos.                   | Big Data: Análisis de datos:Procesamiento de grandes conjuntos de datos para obtener insights. Internet de las Cosas (IoT): Gestión de datos generados por sensores y dispositivos conectados. Análisis de redes sociales:Análisis de sentimientos, recomendaciones, etc. Aplicaciones de alta escalabilidad:Aplicaciones móviles: Gestión de datos de usuarios, preferencias, etc.Juegos en línea: Gestión de usuarios, puntuaciones, etc. Aplicaciones geolocalización: servicios de ubicación. Datos no estructurados o semiestructurados: Documentos: Almacenamiento de documentos JSON, XML, etc. Gráficos: Modelado de relaciones entre datos. Datos de series temporales: Datos que cambian con el tiempo (sensores, acciones).|\n",
    "                      \n",
    "\n",
    "\n",
    "\n",
    "\n",
    "## Fuentes:\n",
    "- AWS Documentación.\n",
    "- AWS Skill Builder.\n"
   ]
  }
 ],
 "metadata": {
  "language_info": {
   "name": "python"
  }
 },
 "nbformat": 4,
 "nbformat_minor": 5
}
